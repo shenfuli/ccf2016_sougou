{
 "cells": [
  {
   "cell_type": "code",
   "execution_count": 4,
   "metadata": {},
   "outputs": [],
   "source": [
    "import pandas as pd\n",
    "import numpy as np\n",
    "import jieba\n",
    "from sklearn.linear_model import LogisticRegression\n",
    "from sklearn.svm import SVC\n",
    "from sklearn.model_selection import StratifiedShuffleSplit,StratifiedKFold,cross_val_score\n",
    "from sklearn.feature_extraction.text import TfidfVectorizer\n",
    "from sklearn.ensemble import GradientBoostingClassifier\n",
    "from sklearn.ensemble import RandomForestClassifier\n",
    "from sklearn.naive_bayes import MultinomialNB,BernoulliNB,GaussianNB\n",
    "import pickle\n",
    "import codecs"
   ]
  },
  {
   "cell_type": "markdown",
   "metadata": {},
   "source": [
    " 基于tfidf-lr 的stack"
   ]
  },
  {
   "cell_type": "code",
   "execution_count": 49,
   "metadata": {},
   "outputs": [],
   "source": [
    "import pandas as pd\n",
    "import numpy as np\n",
    "import jieba\n",
    "import pickle\n",
    "from sklearn.linear_model import LogisticRegression\n",
    "from sklearn.feature_extraction.text import TfidfVectorizer\n",
    "from sklearn.model_selection import KFold\n",
    "from datetime import datetime\n",
    "\n",
    "#-----------------------myfunc-----------------------\n",
    "def myAcc(y_true,y_pred):\n",
    "    y_pred = np.argmax(y_pred,axis=1)\n",
    "    return np.mean(y_true == y_pred)\n",
    "#-----------------------load data--------------------\n",
    "\n",
    "df_all = pd.read_csv('all_v2.csv',encoding='utf8')\n",
    "ys = {}\n",
    "for label in ['Education','age','gender']:\n",
    "    ys[label] = np.array(df_all[label])\n",
    "\n",
    "class Tokenizer():\n",
    "    def __init__(self):\n",
    "        self.n = 0\n",
    "    def __call__(self,line):\n",
    "        tokens = []\n",
    "        for query in line.split('\\t'):\n",
    "            words = [word for word in jieba.cut(query)]\n",
    "            for gram in [1,2]:\n",
    "                for i in range(len(words) - gram + 1):\n",
    "                    tokens += [\"_*_\".join(words[i:i+gram])]\n",
    "        if np.random.rand() < 0.00001:\n",
    "            print(line)\n",
    "            print('='*20)\n",
    "            print(tokens)\n",
    "        self.n += 1\n",
    "        if self.n%10000==0:\n",
    "            print(self.n)\n",
    "        return tokens"
   ]
  },
  {
   "cell_type": "code",
   "execution_count": 51,
   "metadata": {},
   "outputs": [
    {
     "name": "stdout",
     "output_type": "stream",
     "text": [
      "(100000, 5)\n"
     ]
    },
    {
     "data": {
      "text/html": [
       "<div>\n",
       "<style scoped>\n",
       "    .dataframe tbody tr th:only-of-type {\n",
       "        vertical-align: middle;\n",
       "    }\n",
       "\n",
       "    .dataframe tbody tr th {\n",
       "        vertical-align: top;\n",
       "    }\n",
       "\n",
       "    .dataframe thead th {\n",
       "        text-align: right;\n",
       "    }\n",
       "</style>\n",
       "<table border=\"1\" class=\"dataframe\">\n",
       "  <thead>\n",
       "    <tr style=\"text-align: right;\">\n",
       "      <th></th>\n",
       "      <th>Id</th>\n",
       "      <th>age</th>\n",
       "      <th>gender</th>\n",
       "      <th>Education</th>\n",
       "      <th>query</th>\n",
       "    </tr>\n",
       "  </thead>\n",
       "  <tbody>\n",
       "    <tr>\n",
       "      <th>0</th>\n",
       "      <td>22DD920316420BE2DF8D6EE651BA174B</td>\n",
       "      <td>1</td>\n",
       "      <td>1</td>\n",
       "      <td>4</td>\n",
       "      <td>柔和双沟\\t女生\\t中财网首页 财经\\thttp://pan.baidu.com/s/1pl...</td>\n",
       "    </tr>\n",
       "    <tr>\n",
       "      <th>1</th>\n",
       "      <td>43CC3AF5A8D6430A3B572337A889AFE4</td>\n",
       "      <td>2</td>\n",
       "      <td>1</td>\n",
       "      <td>3</td>\n",
       "      <td>广州厨宝烤箱\\t世情薄,人情恶,雨送黄昏花易落,晓风干,泪痕\\t厦门酒店用品批发市场\\t我只...</td>\n",
       "    </tr>\n",
       "    <tr>\n",
       "      <th>2</th>\n",
       "      <td>E97654BFF5570E2CCD433EA6128EAC19</td>\n",
       "      <td>4</td>\n",
       "      <td>1</td>\n",
       "      <td>0</td>\n",
       "      <td>钻石之泪耳机\\t盘锦到沈阳\\t旅顺公交\\t辽宁阜新车牌\\tbaidu\\tk715\\tk716...</td>\n",
       "    </tr>\n",
       "    <tr>\n",
       "      <th>3</th>\n",
       "      <td>6931EFC26D229CCFCEA125D3F3C21E57</td>\n",
       "      <td>4</td>\n",
       "      <td>2</td>\n",
       "      <td>3</td>\n",
       "      <td>最受欢迎狗狗排行榜\\t舶怎么读\\t场景描 写范例\\t三维绘图软件\\t枣和酸奶能一起吃吗\\t好...</td>\n",
       "    </tr>\n",
       "    <tr>\n",
       "      <th>4</th>\n",
       "      <td>E780470C3BB0D340334BD08CDCC3C71A</td>\n",
       "      <td>2</td>\n",
       "      <td>2</td>\n",
       "      <td>4</td>\n",
       "      <td>干槽症能自愈吗\\t太太万岁叶舒心去没去美国\\t干槽症\\t右眼皮下面一直跳是怎么回事\\t麦当劳...</td>\n",
       "    </tr>\n",
       "  </tbody>\n",
       "</table>\n",
       "</div>"
      ],
      "text/plain": [
       "                                 Id  age  gender  Education  \\\n",
       "0  22DD920316420BE2DF8D6EE651BA174B    1       1          4   \n",
       "1  43CC3AF5A8D6430A3B572337A889AFE4    2       1          3   \n",
       "2  E97654BFF5570E2CCD433EA6128EAC19    4       1          0   \n",
       "3  6931EFC26D229CCFCEA125D3F3C21E57    4       2          3   \n",
       "4  E780470C3BB0D340334BD08CDCC3C71A    2       2          4   \n",
       "\n",
       "                                               query  \n",
       "0  柔和双沟\\t女生\\t中财网首页 财经\\thttp://pan.baidu.com/s/1pl...  \n",
       "1  广州厨宝烤箱\\t世情薄,人情恶,雨送黄昏花易落,晓风干,泪痕\\t厦门酒店用品批发市场\\t我只...  \n",
       "2  钻石之泪耳机\\t盘锦到沈阳\\t旅顺公交\\t辽宁阜新车牌\\tbaidu\\tk715\\tk716...  \n",
       "3  最受欢迎狗狗排行榜\\t舶怎么读\\t场景描 写范例\\t三维绘图软件\\t枣和酸奶能一起吃吗\\t好...  \n",
       "4  干槽症能自愈吗\\t太太万岁叶舒心去没去美国\\t干槽症\\t右眼皮下面一直跳是怎么回事\\t麦当劳...  "
      ]
     },
     "execution_count": 51,
     "metadata": {},
     "output_type": "execute_result"
    }
   ],
   "source": [
    "print(df_all.shape)\n",
    "df_all.head()"
   ]
  },
  {
   "cell_type": "markdown",
   "metadata": {},
   "source": [
    "我们来查看下bi-gram 特征是什么样的？"
   ]
  },
  {
   "cell_type": "code",
   "execution_count": 67,
   "metadata": {},
   "outputs": [
    {
     "name": "stdout",
     "output_type": "stream",
     "text": [
      "['干槽症', '能', '自愈', '吗', '干槽症_*_能', '能_*_自愈', '自愈_*_吗']\n"
     ]
    }
   ],
   "source": [
    "tokens = []\n",
    "line='干槽症能自愈吗'\n",
    "for query in line.split('\\t'):\n",
    "    words = [word for word in jieba.cut(query)]\n",
    "    for gram in [1,2]:\n",
    "        for i in range(len(words) - gram + 1):\n",
    "            tokens += [\"_*_\".join(words[i:i+gram])]\n",
    "print(tokens)"
   ]
  },
  {
   "cell_type": "code",
   "execution_count": 69,
   "metadata": {},
   "outputs": [
    {
     "name": "stdout",
     "output_type": "stream",
     "text": [
      "10000\n",
      "20000\n",
      "30000\n",
      "40000\n",
      "50000\n",
      "60000\n",
      "70000\n",
      "80000\n",
      "90000\n",
      "100000\n"
     ]
    }
   ],
   "source": [
    "tfv = TfidfVectorizer(tokenizer=Tokenizer(),min_df=3,max_df=0.95,sublinear_tf=True)\n",
    "X_sp = tfv.fit_transform(df_all['query'])\n"
   ]
  },
  {
   "cell_type": "code",
   "execution_count": 70,
   "metadata": {},
   "outputs": [],
   "source": [
    "# 保持\n",
    "pickle.dump(X_sp,open('tfidf_10W.feat','wb'))"
   ]
  },
  {
   "cell_type": "code",
   "execution_count": 72,
   "metadata": {},
   "outputs": [
    {
     "data": {
      "text/plain": [
       "<1x1699133 sparse matrix of type '<class 'numpy.float64'>'\n",
       "\twith 1059 stored elements in Compressed Sparse Row format>"
      ]
     },
     "execution_count": 72,
     "metadata": {},
     "output_type": "execute_result"
    }
   ],
   "source": [
    "X_sp[0]"
   ]
  },
  {
   "cell_type": "code",
   "execution_count": 79,
   "metadata": {},
   "outputs": [],
   "source": [
    "from sklearn.model_selection import StratifiedKFold"
   ]
  },
  {
   "cell_type": "code",
   "execution_count": 81,
   "metadata": {},
   "outputs": [
    {
     "name": "stdout",
     "output_type": "stream",
     "text": [
      "Education\n",
      "2019-05-05 17:00:23.527959 stack:1/5\n"
     ]
    },
    {
     "name": "stderr",
     "output_type": "stream",
     "text": [
      "/usr/local/lib/python3.5/dist-packages/sklearn/linear_model/logistic.py:433: FutureWarning: Default solver will be changed to 'lbfgs' in 0.22. Specify a solver to silence this warning.\n",
      "  FutureWarning)\n",
      "/usr/local/lib/python3.5/dist-packages/sklearn/linear_model/logistic.py:460: FutureWarning: Default multi_class will be changed to 'auto' in 0.22. Specify the multi_class option to silence this warning.\n",
      "  \"this warning.\", FutureWarning)\n"
     ]
    },
    {
     "name": "stdout",
     "output_type": "stream",
     "text": [
      "va acc: 0.5664291963504562\n",
      "te acc: 0.57695\n",
      "2019-05-05 17:04:02.553762 stack:2/5\n",
      "va acc: 0.5670895569026936\n",
      "te acc: 0.5771\n",
      "2019-05-05 17:08:17.190749 stack:3/5\n",
      "va acc: 0.561\n",
      "te acc: 0.57655\n",
      "2019-05-05 17:12:13.924591 stack:4/5\n",
      "va acc: 0.5644375\n",
      "te acc: 0.57675\n",
      "2019-05-05 17:16:01.501699 stack:5/5\n",
      "va acc: 0.5668562855535413\n",
      "te acc: 0.5784\n",
      "age\n",
      "2019-05-05 17:19:41.662236 stack:1/5\n"
     ]
    },
    {
     "name": "stderr",
     "output_type": "stream",
     "text": [
      "/usr/local/lib/python3.5/dist-packages/sklearn/linear_model/logistic.py:433: FutureWarning: Default solver will be changed to 'lbfgs' in 0.22. Specify a solver to silence this warning.\n",
      "  FutureWarning)\n",
      "/usr/local/lib/python3.5/dist-packages/sklearn/linear_model/logistic.py:460: FutureWarning: Default multi_class will be changed to 'auto' in 0.22. Specify the multi_class option to silence this warning.\n",
      "  \"this warning.\", FutureWarning)\n"
     ]
    },
    {
     "name": "stdout",
     "output_type": "stream",
     "text": [
      "va acc: 0.585640192463913\n",
      "te acc: 0.58905\n",
      "2019-05-05 17:23:32.645821 stack:2/5\n",
      "va acc: 0.5818908954571018\n",
      "te acc: 0.5874\n",
      "2019-05-05 17:27:04.744212 stack:3/5\n",
      "va acc: 0.5823125\n",
      "te acc: 0.5872\n",
      "2019-05-05 17:31:00.633378 stack:4/5\n",
      "va acc: 0.5813226653331667\n",
      "te acc: 0.58835\n",
      "2019-05-05 17:34:40.572510 stack:5/5\n",
      "va acc: 0.5850837709427357\n",
      "te acc: 0.5907\n",
      "gender\n",
      "2019-05-05 17:38:16.277015 stack:1/5\n"
     ]
    },
    {
     "name": "stderr",
     "output_type": "stream",
     "text": [
      "/usr/local/lib/python3.5/dist-packages/sklearn/linear_model/logistic.py:433: FutureWarning: Default solver will be changed to 'lbfgs' in 0.22. Specify a solver to silence this warning.\n",
      "  FutureWarning)\n",
      "/usr/local/lib/python3.5/dist-packages/sklearn/linear_model/logistic.py:460: FutureWarning: Default multi_class will be changed to 'auto' in 0.22. Specify the multi_class option to silence this warning.\n",
      "  \"this warning.\", FutureWarning)\n"
     ]
    },
    {
     "name": "stdout",
     "output_type": "stream",
     "text": [
      "va acc: 0.8112617961377414\n",
      "te acc: 0.81125\n",
      "2019-05-05 17:39:33.996150 stack:2/5\n",
      "va acc: 0.8109493156677707\n",
      "te acc: 0.8146\n",
      "2019-05-05 17:40:58.507284 stack:3/5\n",
      "va acc: 0.8092619211299293\n",
      "te acc: 0.8136\n",
      "2019-05-05 17:42:25.336263 stack:4/5\n",
      "va acc: 0.8123007687980499\n",
      "te acc: 0.81295\n",
      "2019-05-05 17:43:42.439485 stack:5/5\n",
      "va acc: 0.8163520440055007\n",
      "te acc: 0.8123\n"
     ]
    }
   ],
   "source": [
    "for lb in ['Education','age','gender']:\n",
    "    skf = StratifiedKFold(n_splits=5) \n",
    "    print(lb)\n",
    "    TR = 80000\n",
    "    num_class = len(pd.value_counts(ys[lb]))\n",
    "  \n",
    "    X,y = X_sp[:TR],ys[lb][:TR] # 训练集\n",
    "    X_te,y_te = X_sp[TR:],ys[lb][TR:]# 测试集\n",
    "\n",
    "    stack = np.zeros((X.shape[0],num_class))\n",
    "    stack_te = np.zeros((X_te.shape[0],num_class))\n",
    "    for i,(tr,va) in enumerate(skf.split(X, y)):\n",
    "        print('%s stack:%d/%d'%(str(datetime.now()),i+1,n))\n",
    "        clf = LogisticRegression(C=3)\n",
    "        clf.fit(X[tr],y[tr])\n",
    "        y_pred_va = clf.predict_proba(X[va])\n",
    "        y_pred_te = clf.predict_proba(X_te)\n",
    "        print('va acc:',myAcc(y[va],y_pred_va))\n",
    "        print('te acc:',myAcc(y_te,y_pred_te))\n",
    "        stack[va] += y_pred_va\n",
    "        stack_te += y_pred_te\n",
    "    stack_te /= n\n",
    "    stack_all = np.vstack([stack,stack_te])\n",
    "    for i in range(stack_all.shape[1]):\n",
    "        df_stack['tfidf_{}_{}'.format(lb,i)] = stack_all[:,i]"
   ]
  },
  {
   "cell_type": "code",
   "execution_count": 99,
   "metadata": {},
   "outputs": [
    {
     "data": {
      "text/plain": [
       "((80000, 3), (20000, 3), (100000, 3), (100000, 17))"
      ]
     },
     "execution_count": 99,
     "metadata": {},
     "output_type": "execute_result"
    }
   ],
   "source": [
    "stack.shape,stack_te.shape,stack_all.shape,df_stack.shape"
   ]
  },
  {
   "cell_type": "code",
   "execution_count": 87,
   "metadata": {},
   "outputs": [
    {
     "data": {
      "text/plain": [
       "array([[0.01959198, 0.39591322, 0.58449479],\n",
       "       [0.02030362, 0.76683648, 0.2128599 ],\n",
       "       [0.01508297, 0.91488372, 0.0700333 ],\n",
       "       ...,\n",
       "       [0.00520082, 0.27070824, 0.72409094],\n",
       "       [0.03043215, 0.73122245, 0.2383454 ],\n",
       "       [0.01591792, 0.32062238, 0.66345969]])"
      ]
     },
     "execution_count": 87,
     "metadata": {},
     "output_type": "execute_result"
    }
   ],
   "source": [
    "stack"
   ]
  },
  {
   "cell_type": "code",
   "execution_count": 88,
   "metadata": {},
   "outputs": [
    {
     "data": {
      "text/plain": [
       "3"
      ]
     },
     "execution_count": 88,
     "metadata": {},
     "output_type": "execute_result"
    }
   ],
   "source": [
    "stack_all.shape[1]"
   ]
  },
  {
   "cell_type": "code",
   "execution_count": 94,
   "metadata": {},
   "outputs": [
    {
     "data": {
      "text/plain": [
       "array([0.01959198, 0.02030362, 0.01508297, ..., 0.00984844, 0.0230086 ,\n",
       "       0.01746398])"
      ]
     },
     "execution_count": 94,
     "metadata": {},
     "output_type": "execute_result"
    }
   ],
   "source": [
    "# 第一列数据\n",
    "stack_all[:,0]"
   ]
  },
  {
   "cell_type": "code",
   "execution_count": 95,
   "metadata": {},
   "outputs": [
    {
     "data": {
      "text/plain": [
       "array([0.39591322, 0.76683648, 0.91488372, ..., 0.13704101, 0.53793367,\n",
       "       0.04511685])"
      ]
     },
     "execution_count": 95,
     "metadata": {},
     "output_type": "execute_result"
    }
   ],
   "source": [
    "# 第三列数据\n",
    "stack_all[:,1]"
   ]
  },
  {
   "cell_type": "code",
   "execution_count": 96,
   "metadata": {},
   "outputs": [
    {
     "data": {
      "text/plain": [
       "array([0.58449479, 0.2128599 , 0.0700333 , ..., 0.85311055, 0.43905773,\n",
       "       0.93741917])"
      ]
     },
     "execution_count": 96,
     "metadata": {},
     "output_type": "execute_result"
    }
   ],
   "source": [
    "# 第三列数据、\n",
    "stack_all[:,2]"
   ]
  },
  {
   "cell_type": "code",
   "execution_count": 98,
   "metadata": {},
   "outputs": [
    {
     "data": {
      "text/html": [
       "<div>\n",
       "<style scoped>\n",
       "    .dataframe tbody tr th:only-of-type {\n",
       "        vertical-align: middle;\n",
       "    }\n",
       "\n",
       "    .dataframe tbody tr th {\n",
       "        vertical-align: top;\n",
       "    }\n",
       "\n",
       "    .dataframe thead th {\n",
       "        text-align: right;\n",
       "    }\n",
       "</style>\n",
       "<table border=\"1\" class=\"dataframe\">\n",
       "  <thead>\n",
       "    <tr style=\"text-align: right;\">\n",
       "      <th></th>\n",
       "      <th>tfidf_Education_0</th>\n",
       "      <th>tfidf_Education_1</th>\n",
       "      <th>tfidf_Education_2</th>\n",
       "      <th>tfidf_Education_3</th>\n",
       "      <th>tfidf_Education_4</th>\n",
       "      <th>tfidf_Education_5</th>\n",
       "      <th>tfidf_Education_6</th>\n",
       "      <th>tfidf_age_0</th>\n",
       "      <th>tfidf_age_1</th>\n",
       "      <th>tfidf_age_2</th>\n",
       "      <th>tfidf_age_3</th>\n",
       "      <th>tfidf_age_4</th>\n",
       "      <th>tfidf_age_5</th>\n",
       "      <th>tfidf_age_6</th>\n",
       "      <th>tfidf_gender_0</th>\n",
       "      <th>tfidf_gender_1</th>\n",
       "      <th>tfidf_gender_2</th>\n",
       "    </tr>\n",
       "  </thead>\n",
       "  <tbody>\n",
       "    <tr>\n",
       "      <th>0</th>\n",
       "      <td>0.158017</td>\n",
       "      <td>0.004670</td>\n",
       "      <td>0.005062</td>\n",
       "      <td>0.198774</td>\n",
       "      <td>0.331189</td>\n",
       "      <td>0.203260</td>\n",
       "      <td>0.099028</td>\n",
       "      <td>0.022520</td>\n",
       "      <td>0.439665</td>\n",
       "      <td>0.054241</td>\n",
       "      <td>0.156768</td>\n",
       "      <td>0.274446</td>\n",
       "      <td>0.046963</td>\n",
       "      <td>0.005398</td>\n",
       "      <td>0.019592</td>\n",
       "      <td>0.395913</td>\n",
       "      <td>0.584495</td>\n",
       "    </tr>\n",
       "    <tr>\n",
       "      <th>1</th>\n",
       "      <td>0.131297</td>\n",
       "      <td>0.004623</td>\n",
       "      <td>0.003296</td>\n",
       "      <td>0.205626</td>\n",
       "      <td>0.450168</td>\n",
       "      <td>0.180818</td>\n",
       "      <td>0.024173</td>\n",
       "      <td>0.016987</td>\n",
       "      <td>0.216246</td>\n",
       "      <td>0.307595</td>\n",
       "      <td>0.327380</td>\n",
       "      <td>0.099233</td>\n",
       "      <td>0.026647</td>\n",
       "      <td>0.005913</td>\n",
       "      <td>0.020304</td>\n",
       "      <td>0.766836</td>\n",
       "      <td>0.212860</td>\n",
       "    </tr>\n",
       "    <tr>\n",
       "      <th>2</th>\n",
       "      <td>0.104105</td>\n",
       "      <td>0.004617</td>\n",
       "      <td>0.006181</td>\n",
       "      <td>0.315600</td>\n",
       "      <td>0.145219</td>\n",
       "      <td>0.391475</td>\n",
       "      <td>0.032804</td>\n",
       "      <td>0.026220</td>\n",
       "      <td>0.216586</td>\n",
       "      <td>0.207844</td>\n",
       "      <td>0.291579</td>\n",
       "      <td>0.178984</td>\n",
       "      <td>0.066981</td>\n",
       "      <td>0.011805</td>\n",
       "      <td>0.015083</td>\n",
       "      <td>0.914884</td>\n",
       "      <td>0.070033</td>\n",
       "    </tr>\n",
       "    <tr>\n",
       "      <th>3</th>\n",
       "      <td>0.175194</td>\n",
       "      <td>0.004402</td>\n",
       "      <td>0.004884</td>\n",
       "      <td>0.202898</td>\n",
       "      <td>0.098855</td>\n",
       "      <td>0.177266</td>\n",
       "      <td>0.336501</td>\n",
       "      <td>0.020216</td>\n",
       "      <td>0.538483</td>\n",
       "      <td>0.016974</td>\n",
       "      <td>0.034896</td>\n",
       "      <td>0.352914</td>\n",
       "      <td>0.033436</td>\n",
       "      <td>0.003080</td>\n",
       "      <td>0.029269</td>\n",
       "      <td>0.099858</td>\n",
       "      <td>0.870873</td>\n",
       "    </tr>\n",
       "    <tr>\n",
       "      <th>4</th>\n",
       "      <td>0.036557</td>\n",
       "      <td>0.002213</td>\n",
       "      <td>0.006839</td>\n",
       "      <td>0.380662</td>\n",
       "      <td>0.494143</td>\n",
       "      <td>0.065622</td>\n",
       "      <td>0.013965</td>\n",
       "      <td>0.009828</td>\n",
       "      <td>0.041942</td>\n",
       "      <td>0.539647</td>\n",
       "      <td>0.361008</td>\n",
       "      <td>0.037957</td>\n",
       "      <td>0.007027</td>\n",
       "      <td>0.002590</td>\n",
       "      <td>0.014743</td>\n",
       "      <td>0.051706</td>\n",
       "      <td>0.933551</td>\n",
       "    </tr>\n",
       "  </tbody>\n",
       "</table>\n",
       "</div>"
      ],
      "text/plain": [
       "   tfidf_Education_0  tfidf_Education_1  tfidf_Education_2  tfidf_Education_3  \\\n",
       "0           0.158017           0.004670           0.005062           0.198774   \n",
       "1           0.131297           0.004623           0.003296           0.205626   \n",
       "2           0.104105           0.004617           0.006181           0.315600   \n",
       "3           0.175194           0.004402           0.004884           0.202898   \n",
       "4           0.036557           0.002213           0.006839           0.380662   \n",
       "\n",
       "   tfidf_Education_4  tfidf_Education_5  tfidf_Education_6  tfidf_age_0  \\\n",
       "0           0.331189           0.203260           0.099028     0.022520   \n",
       "1           0.450168           0.180818           0.024173     0.016987   \n",
       "2           0.145219           0.391475           0.032804     0.026220   \n",
       "3           0.098855           0.177266           0.336501     0.020216   \n",
       "4           0.494143           0.065622           0.013965     0.009828   \n",
       "\n",
       "   tfidf_age_1  tfidf_age_2  tfidf_age_3  tfidf_age_4  tfidf_age_5  \\\n",
       "0     0.439665     0.054241     0.156768     0.274446     0.046963   \n",
       "1     0.216246     0.307595     0.327380     0.099233     0.026647   \n",
       "2     0.216586     0.207844     0.291579     0.178984     0.066981   \n",
       "3     0.538483     0.016974     0.034896     0.352914     0.033436   \n",
       "4     0.041942     0.539647     0.361008     0.037957     0.007027   \n",
       "\n",
       "   tfidf_age_6  tfidf_gender_0  tfidf_gender_1  tfidf_gender_2  \n",
       "0     0.005398        0.019592        0.395913        0.584495  \n",
       "1     0.005913        0.020304        0.766836        0.212860  \n",
       "2     0.011805        0.015083        0.914884        0.070033  \n",
       "3     0.003080        0.029269        0.099858        0.870873  \n",
       "4     0.002590        0.014743        0.051706        0.933551  "
      ]
     },
     "execution_count": 98,
     "metadata": {},
     "output_type": "execute_result"
    }
   ],
   "source": [
    "df_stack.head()"
   ]
  },
  {
   "cell_type": "code",
   "execution_count": 100,
   "metadata": {},
   "outputs": [
    {
     "name": "stdout",
     "output_type": "stream",
     "text": [
      "2019-05-05 17:49:14.562371 save tfidf stack done!\n"
     ]
    }
   ],
   "source": [
    "df_stack.to_csv( 'tfidf_stack_10W.csv', index=None, encoding='utf8')\n",
    "print(datetime.now(), 'save tfidf stack done!')"
   ]
  },
  {
   "cell_type": "code",
   "execution_count": 102,
   "metadata": {},
   "outputs": [
    {
     "data": {
      "text/html": [
       "<div>\n",
       "<style scoped>\n",
       "    .dataframe tbody tr th:only-of-type {\n",
       "        vertical-align: middle;\n",
       "    }\n",
       "\n",
       "    .dataframe tbody tr th {\n",
       "        vertical-align: top;\n",
       "    }\n",
       "\n",
       "    .dataframe thead th {\n",
       "        text-align: right;\n",
       "    }\n",
       "</style>\n",
       "<table border=\"1\" class=\"dataframe\">\n",
       "  <thead>\n",
       "    <tr style=\"text-align: right;\">\n",
       "      <th></th>\n",
       "      <th>tfidf_Education_0</th>\n",
       "      <th>tfidf_Education_1</th>\n",
       "      <th>tfidf_Education_2</th>\n",
       "      <th>tfidf_Education_3</th>\n",
       "      <th>tfidf_Education_4</th>\n",
       "      <th>tfidf_Education_5</th>\n",
       "      <th>tfidf_Education_6</th>\n",
       "      <th>tfidf_age_0</th>\n",
       "      <th>tfidf_age_1</th>\n",
       "      <th>tfidf_age_2</th>\n",
       "      <th>tfidf_age_3</th>\n",
       "      <th>tfidf_age_4</th>\n",
       "      <th>tfidf_age_5</th>\n",
       "      <th>tfidf_age_6</th>\n",
       "      <th>tfidf_gender_0</th>\n",
       "      <th>tfidf_gender_1</th>\n",
       "      <th>tfidf_gender_2</th>\n",
       "    </tr>\n",
       "  </thead>\n",
       "  <tbody>\n",
       "    <tr>\n",
       "      <th>0</th>\n",
       "      <td>0.158017</td>\n",
       "      <td>0.004670</td>\n",
       "      <td>0.005062</td>\n",
       "      <td>0.198774</td>\n",
       "      <td>0.331189</td>\n",
       "      <td>0.203260</td>\n",
       "      <td>0.099028</td>\n",
       "      <td>0.022520</td>\n",
       "      <td>0.439665</td>\n",
       "      <td>0.054241</td>\n",
       "      <td>0.156768</td>\n",
       "      <td>0.274446</td>\n",
       "      <td>0.046963</td>\n",
       "      <td>0.005398</td>\n",
       "      <td>0.019592</td>\n",
       "      <td>0.395913</td>\n",
       "      <td>0.584495</td>\n",
       "    </tr>\n",
       "    <tr>\n",
       "      <th>1</th>\n",
       "      <td>0.131297</td>\n",
       "      <td>0.004623</td>\n",
       "      <td>0.003296</td>\n",
       "      <td>0.205626</td>\n",
       "      <td>0.450168</td>\n",
       "      <td>0.180818</td>\n",
       "      <td>0.024173</td>\n",
       "      <td>0.016987</td>\n",
       "      <td>0.216246</td>\n",
       "      <td>0.307595</td>\n",
       "      <td>0.327380</td>\n",
       "      <td>0.099233</td>\n",
       "      <td>0.026647</td>\n",
       "      <td>0.005913</td>\n",
       "      <td>0.020304</td>\n",
       "      <td>0.766836</td>\n",
       "      <td>0.212860</td>\n",
       "    </tr>\n",
       "    <tr>\n",
       "      <th>2</th>\n",
       "      <td>0.104105</td>\n",
       "      <td>0.004617</td>\n",
       "      <td>0.006181</td>\n",
       "      <td>0.315600</td>\n",
       "      <td>0.145219</td>\n",
       "      <td>0.391475</td>\n",
       "      <td>0.032804</td>\n",
       "      <td>0.026220</td>\n",
       "      <td>0.216586</td>\n",
       "      <td>0.207844</td>\n",
       "      <td>0.291579</td>\n",
       "      <td>0.178984</td>\n",
       "      <td>0.066981</td>\n",
       "      <td>0.011805</td>\n",
       "      <td>0.015083</td>\n",
       "      <td>0.914884</td>\n",
       "      <td>0.070033</td>\n",
       "    </tr>\n",
       "    <tr>\n",
       "      <th>3</th>\n",
       "      <td>0.175194</td>\n",
       "      <td>0.004402</td>\n",
       "      <td>0.004884</td>\n",
       "      <td>0.202898</td>\n",
       "      <td>0.098855</td>\n",
       "      <td>0.177266</td>\n",
       "      <td>0.336501</td>\n",
       "      <td>0.020216</td>\n",
       "      <td>0.538483</td>\n",
       "      <td>0.016974</td>\n",
       "      <td>0.034896</td>\n",
       "      <td>0.352914</td>\n",
       "      <td>0.033436</td>\n",
       "      <td>0.003080</td>\n",
       "      <td>0.029269</td>\n",
       "      <td>0.099858</td>\n",
       "      <td>0.870873</td>\n",
       "    </tr>\n",
       "    <tr>\n",
       "      <th>4</th>\n",
       "      <td>0.036557</td>\n",
       "      <td>0.002213</td>\n",
       "      <td>0.006839</td>\n",
       "      <td>0.380662</td>\n",
       "      <td>0.494143</td>\n",
       "      <td>0.065622</td>\n",
       "      <td>0.013965</td>\n",
       "      <td>0.009828</td>\n",
       "      <td>0.041942</td>\n",
       "      <td>0.539647</td>\n",
       "      <td>0.361008</td>\n",
       "      <td>0.037957</td>\n",
       "      <td>0.007027</td>\n",
       "      <td>0.002590</td>\n",
       "      <td>0.014743</td>\n",
       "      <td>0.051706</td>\n",
       "      <td>0.933551</td>\n",
       "    </tr>\n",
       "  </tbody>\n",
       "</table>\n",
       "</div>"
      ],
      "text/plain": [
       "   tfidf_Education_0  tfidf_Education_1  tfidf_Education_2  tfidf_Education_3  \\\n",
       "0           0.158017           0.004670           0.005062           0.198774   \n",
       "1           0.131297           0.004623           0.003296           0.205626   \n",
       "2           0.104105           0.004617           0.006181           0.315600   \n",
       "3           0.175194           0.004402           0.004884           0.202898   \n",
       "4           0.036557           0.002213           0.006839           0.380662   \n",
       "\n",
       "   tfidf_Education_4  tfidf_Education_5  tfidf_Education_6  tfidf_age_0  \\\n",
       "0           0.331189           0.203260           0.099028     0.022520   \n",
       "1           0.450168           0.180818           0.024173     0.016987   \n",
       "2           0.145219           0.391475           0.032804     0.026220   \n",
       "3           0.098855           0.177266           0.336501     0.020216   \n",
       "4           0.494143           0.065622           0.013965     0.009828   \n",
       "\n",
       "   tfidf_age_1  tfidf_age_2  tfidf_age_3  tfidf_age_4  tfidf_age_5  \\\n",
       "0     0.439665     0.054241     0.156768     0.274446     0.046963   \n",
       "1     0.216246     0.307595     0.327380     0.099233     0.026647   \n",
       "2     0.216586     0.207844     0.291579     0.178984     0.066981   \n",
       "3     0.538483     0.016974     0.034896     0.352914     0.033436   \n",
       "4     0.041942     0.539647     0.361008     0.037957     0.007027   \n",
       "\n",
       "   tfidf_age_6  tfidf_gender_0  tfidf_gender_1  tfidf_gender_2  \n",
       "0     0.005398        0.019592        0.395913        0.584495  \n",
       "1     0.005913        0.020304        0.766836        0.212860  \n",
       "2     0.011805        0.015083        0.914884        0.070033  \n",
       "3     0.003080        0.029269        0.099858        0.870873  \n",
       "4     0.002590        0.014743        0.051706        0.933551  "
      ]
     },
     "execution_count": 102,
     "metadata": {},
     "output_type": "execute_result"
    }
   ],
   "source": [
    "df = pd.read_csv('tfidf_stack_10W.csv')\n",
    "df.head()"
   ]
  },
  {
   "cell_type": "code",
   "execution_count": null,
   "metadata": {},
   "outputs": [],
   "source": []
  }
 ],
 "metadata": {
  "kernelspec": {
   "display_name": "Python 3",
   "language": "python",
   "name": "python3"
  },
  "language_info": {
   "codemirror_mode": {
    "name": "ipython",
    "version": 3
   },
   "file_extension": ".py",
   "mimetype": "text/x-python",
   "name": "python",
   "nbconvert_exporter": "python",
   "pygments_lexer": "ipython3",
   "version": "3.5.2"
  }
 },
 "nbformat": 4,
 "nbformat_minor": 2
}
